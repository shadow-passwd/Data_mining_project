{
  "nbformat": 4,
  "nbformat_minor": 0,
  "metadata": {
    "colab": {
      "name": "Word2Vec.ipynb",
      "provenance": [],
      "collapsed_sections": [],
      "authorship_tag": "ABX9TyOcTKZuWWl3R1ieXBVxn+7e",
      "include_colab_link": true
    },
    "kernelspec": {
      "name": "python3",
      "display_name": "Python 3"
    },
    "accelerator": "GPU"
  },
  "cells": [
    {
      "cell_type": "markdown",
      "metadata": {
        "id": "view-in-github",
        "colab_type": "text"
      },
      "source": [
        "<a href=\"https://colab.research.google.com/github/shadow-passwd/Data_mining_project/blob/master/Word2Vec.ipynb\" target=\"_parent\"><img src=\"https://colab.research.google.com/assets/colab-badge.svg\" alt=\"Open In Colab\"/></a>"
      ]
    },
    {
      "cell_type": "code",
      "metadata": {
        "id": "mfZ-6Ied0PaX",
        "outputId": "18ca3fad-aa44-4441-a902-d8efd16dca83",
        "colab": {
          "base_uri": "https://localhost:8080/",
          "height": 35
        }
      },
      "source": [
        "from google.colab import drive\n",
        "drive.mount('/content/drive')"
      ],
      "execution_count": null,
      "outputs": [
        {
          "output_type": "stream",
          "text": [
            "Mounted at /content/drive\n"
          ],
          "name": "stdout"
        }
      ]
    },
    {
      "cell_type": "code",
      "metadata": {
        "id": "zFRLu6QG8Nyx"
      },
      "source": [
        "BASE_DIR = r'/content/drive/My Drive/'"
      ],
      "execution_count": null,
      "outputs": []
    },
    {
      "cell_type": "code",
      "metadata": {
        "id": "V0WQZ9NQ8cV0",
        "outputId": "14d85440-6086-418d-df69-ca455909315c",
        "colab": {
          "base_uri": "https://localhost:8080/",
          "height": 52
        }
      },
      "source": [
        "## All imports here\n",
        "import pandas as pd\n",
        "import numpy as np\n",
        "from sklearn.model_selection import train_test_split\n",
        "from keras.preprocessing.text import Tokenizer\n",
        "from keras.preprocessing import sequence\n",
        "from keras.preprocessing.sequence import pad_sequences\n",
        "from keras.utils import np_utils\n",
        "import gensim\n",
        "import nltk\n",
        "from gensim.models.word2vec import Word2Vec\n",
        "import tensorflow as tf\n",
        "from tqdm import tqdm\n",
        "tqdm.pandas(desc=\"progress-bar\")\n",
        "nltk.download('stopwords')\n",
        "import re\n",
        "import matplotlib.pyplot as plt"
      ],
      "execution_count": null,
      "outputs": [
        {
          "output_type": "stream",
          "text": [
            "[nltk_data] Downloading package stopwords to /root/nltk_data...\n",
            "[nltk_data]   Unzipping corpora/stopwords.zip.\n"
          ],
          "name": "stdout"
        }
      ]
    },
    {
      "cell_type": "code",
      "metadata": {
        "id": "8OZk7ZPw-quv",
        "outputId": "9b28bc42-a9bc-4067-ccb0-7551bec36e9a",
        "colab": {
          "base_uri": "https://localhost:8080/",
          "height": 35
        }
      },
      "source": [
        "df = pd.read_csv(BASE_DIR + \"clean_review.csv\", engine='python', encoding='utf-8', error_bad_lines=False)"
      ],
      "execution_count": null,
      "outputs": [
        {
          "output_type": "stream",
          "text": [
            "Skipping line 196678: unexpected end of data\n"
          ],
          "name": "stderr"
        }
      ]
    },
    {
      "cell_type": "code",
      "metadata": {
        "id": "lHJipQgMU4A4",
        "outputId": "559c40db-442e-4964-b909-258c8a9eb4a3",
        "colab": {
          "base_uri": "https://localhost:8080/",
          "height": 497
        }
      },
      "source": [
        "df.info()"
      ],
      "execution_count": null,
      "outputs": [
        {
          "output_type": "stream",
          "text": [
            "<class 'pandas.core.frame.DataFrame'>\n",
            "RangeIndex: 196676 entries, 0 to 196675\n",
            "Data columns (total 20 columns):\n",
            " #   Column            Non-Null Count   Dtype  \n",
            "---  ------            --------------   -----  \n",
            " 0   reviewer_id       196676 non-null  object \n",
            " 1   product_id        196676 non-null  object \n",
            " 2   rating            196676 non-null  float64\n",
            " 3   unix_review_time  196676 non-null  int64  \n",
            " 4   categories        196676 non-null  object \n",
            " 5   product_title     196676 non-null  object \n",
            " 6   also_buy          196676 non-null  object \n",
            " 7   brand_name        196676 non-null  object \n",
            " 8   feature           196676 non-null  object \n",
            " 9   rank              196676 non-null  object \n",
            " 10  related           196676 non-null  object \n",
            " 11  similar_item      196676 non-null  object \n",
            " 12  price             196676 non-null  object \n",
            " 13  review_text       196676 non-null  object \n",
            " 14  pos_feedback      196676 non-null  int64  \n",
            " 15  neg_feedback      196676 non-null  int64  \n",
            " 16  rating_class      196676 non-null  object \n",
            " 17  help_prop         196676 non-null  float64\n",
            " 18  review_time       196676 non-null  object \n",
            " 19  clean_text        196674 non-null  object \n",
            "dtypes: float64(2), int64(3), object(15)\n",
            "memory usage: 30.0+ MB\n"
          ],
          "name": "stdout"
        }
      ]
    },
    {
      "cell_type": "code",
      "metadata": {
        "id": "NHF99YCX_GSO"
      },
      "source": [
        "# assigning numeric rating class.\n",
        "\n",
        "df['rating_class'] = df['rating_class'].apply(lambda x: 0 if x == 'bad' else 1)"
      ],
      "execution_count": null,
      "outputs": []
    },
    {
      "cell_type": "code",
      "metadata": {
        "id": "mp9SXWjaHX_L",
        "outputId": "52e74bfe-da68-436f-d797-ef0e1176a41e",
        "colab": {
          "base_uri": "https://localhost:8080/",
          "height": 629
        }
      },
      "source": [
        "## preparing the input and output vectors for the classification model.\n",
        "\n",
        "df.clean_text = df.clean_text.astype(str)\n",
        "df.head()"
      ],
      "execution_count": null,
      "outputs": [
        {
          "output_type": "execute_result",
          "data": {
            "text/html": [
              "<div>\n",
              "<style scoped>\n",
              "    .dataframe tbody tr th:only-of-type {\n",
              "        vertical-align: middle;\n",
              "    }\n",
              "\n",
              "    .dataframe tbody tr th {\n",
              "        vertical-align: top;\n",
              "    }\n",
              "\n",
              "    .dataframe thead th {\n",
              "        text-align: right;\n",
              "    }\n",
              "</style>\n",
              "<table border=\"1\" class=\"dataframe\">\n",
              "  <thead>\n",
              "    <tr style=\"text-align: right;\">\n",
              "      <th></th>\n",
              "      <th>reviewer_id</th>\n",
              "      <th>product_id</th>\n",
              "      <th>rating</th>\n",
              "      <th>unix_review_time</th>\n",
              "      <th>categories</th>\n",
              "      <th>product_title</th>\n",
              "      <th>also_buy</th>\n",
              "      <th>brand_name</th>\n",
              "      <th>feature</th>\n",
              "      <th>rank</th>\n",
              "      <th>related</th>\n",
              "      <th>similar_item</th>\n",
              "      <th>price</th>\n",
              "      <th>review_text</th>\n",
              "      <th>pos_feedback</th>\n",
              "      <th>neg_feedback</th>\n",
              "      <th>rating_class</th>\n",
              "      <th>help_prop</th>\n",
              "      <th>review_time</th>\n",
              "      <th>clean_text</th>\n",
              "    </tr>\n",
              "  </thead>\n",
              "  <tbody>\n",
              "    <tr>\n",
              "      <th>0</th>\n",
              "      <td>A2JXAZZI9PHK9Z</td>\n",
              "      <td>0594451647</td>\n",
              "      <td>5.0</td>\n",
              "      <td>1388707200</td>\n",
              "      <td>['Electronics', 'Computers &amp;amp; Accessories',...</td>\n",
              "      <td>Barnes &amp;amp; Noble HDTV Adapter Kit for NOOK H...</td>\n",
              "      <td>[]</td>\n",
              "      <td>Barnes &amp;amp; Noble</td>\n",
              "      <td>['Connects NOOK to your high-definition televi...</td>\n",
              "      <td>['&gt;#1,708 in Computers &amp;amp; Accessories &amp;gt; ...</td>\n",
              "      <td>['B00RRFMVEE', 'B01N5F6RNV', '1400699169', 'B0...</td>\n",
              "      <td>class=\"a-bordered a-horizontal-stripes  a-spa...</td>\n",
              "      <td>$1.46</td>\n",
              "      <td>HDMI Nook adapter cable I am using this with a...</td>\n",
              "      <td>3</td>\n",
              "      <td>0</td>\n",
              "      <td>1</td>\n",
              "      <td>1.0</td>\n",
              "      <td>2014-01-03</td>\n",
              "      <td>hdmi nook adapter cable use nook hd work descr...</td>\n",
              "    </tr>\n",
              "    <tr>\n",
              "      <th>1</th>\n",
              "      <td>A2P5U7BDKKT7FW</td>\n",
              "      <td>0594451647</td>\n",
              "      <td>2.0</td>\n",
              "      <td>1398556800</td>\n",
              "      <td>['Electronics', 'Computers &amp;amp; Accessories',...</td>\n",
              "      <td>Barnes &amp;amp; Noble HDTV Adapter Kit for NOOK H...</td>\n",
              "      <td>[]</td>\n",
              "      <td>Barnes &amp;amp; Noble</td>\n",
              "      <td>['Connects NOOK to your high-definition televi...</td>\n",
              "      <td>['&gt;#1,708 in Computers &amp;amp; Accessories &amp;gt; ...</td>\n",
              "      <td>['B00RRFMVEE', 'B01N5F6RNV', '1400699169', 'B0...</td>\n",
              "      <td>class=\"a-bordered a-horizontal-stripes  a-spa...</td>\n",
              "      <td>$1.46</td>\n",
              "      <td>Cheap proprietary scam The cable is very wobbl...</td>\n",
              "      <td>0</td>\n",
              "      <td>0</td>\n",
              "      <td>1</td>\n",
              "      <td>0.0</td>\n",
              "      <td>2014-04-27</td>\n",
              "      <td>cheap proprietary scam cable wobbly sometimes ...</td>\n",
              "    </tr>\n",
              "    <tr>\n",
              "      <th>2</th>\n",
              "      <td>AAZ084UMH8VZ2</td>\n",
              "      <td>0594451647</td>\n",
              "      <td>5.0</td>\n",
              "      <td>1399161600</td>\n",
              "      <td>['Electronics', 'Computers &amp;amp; Accessories',...</td>\n",
              "      <td>Barnes &amp;amp; Noble HDTV Adapter Kit for NOOK H...</td>\n",
              "      <td>[]</td>\n",
              "      <td>Barnes &amp;amp; Noble</td>\n",
              "      <td>['Connects NOOK to your high-definition televi...</td>\n",
              "      <td>['&gt;#1,708 in Computers &amp;amp; Accessories &amp;gt; ...</td>\n",
              "      <td>['B00RRFMVEE', 'B01N5F6RNV', '1400699169', 'B0...</td>\n",
              "      <td>class=\"a-bordered a-horizontal-stripes  a-spa...</td>\n",
              "      <td>$1.46</td>\n",
              "      <td>A Perfdect Nook HD+ hook up This adaptor is re...</td>\n",
              "      <td>0</td>\n",
              "      <td>0</td>\n",
              "      <td>1</td>\n",
              "      <td>0.0</td>\n",
              "      <td>2014-05-04</td>\n",
              "      <td>perfdect nook hd hook adaptor real easy setup ...</td>\n",
              "    </tr>\n",
              "    <tr>\n",
              "      <th>3</th>\n",
              "      <td>AEZ3CR6BKIROJ</td>\n",
              "      <td>0594451647</td>\n",
              "      <td>4.0</td>\n",
              "      <td>1405036800</td>\n",
              "      <td>['Electronics', 'Computers &amp;amp; Accessories',...</td>\n",
              "      <td>Barnes &amp;amp; Noble HDTV Adapter Kit for NOOK H...</td>\n",
              "      <td>[]</td>\n",
              "      <td>Barnes &amp;amp; Noble</td>\n",
              "      <td>['Connects NOOK to your high-definition televi...</td>\n",
              "      <td>['&gt;#1,708 in Computers &amp;amp; Accessories &amp;gt; ...</td>\n",
              "      <td>['B00RRFMVEE', 'B01N5F6RNV', '1400699169', 'B0...</td>\n",
              "      <td>class=\"a-bordered a-horizontal-stripes  a-spa...</td>\n",
              "      <td>$1.46</td>\n",
              "      <td>A nice easy to use accessory. This adapter eas...</td>\n",
              "      <td>0</td>\n",
              "      <td>0</td>\n",
              "      <td>1</td>\n",
              "      <td>0.0</td>\n",
              "      <td>2014-07-11</td>\n",
              "      <td>nice easy use accessory adapter easily connect...</td>\n",
              "    </tr>\n",
              "    <tr>\n",
              "      <th>4</th>\n",
              "      <td>A3BY5KCNQZXV5U</td>\n",
              "      <td>0594451647</td>\n",
              "      <td>5.0</td>\n",
              "      <td>1390176000</td>\n",
              "      <td>['Electronics', 'Computers &amp;amp; Accessories',...</td>\n",
              "      <td>Barnes &amp;amp; Noble HDTV Adapter Kit for NOOK H...</td>\n",
              "      <td>[]</td>\n",
              "      <td>Barnes &amp;amp; Noble</td>\n",
              "      <td>['Connects NOOK to your high-definition televi...</td>\n",
              "      <td>['&gt;#1,708 in Computers &amp;amp; Accessories &amp;gt; ...</td>\n",
              "      <td>['B00RRFMVEE', 'B01N5F6RNV', '1400699169', 'B0...</td>\n",
              "      <td>class=\"a-bordered a-horizontal-stripes  a-spa...</td>\n",
              "      <td>$1.46</td>\n",
              "      <td>This works great but read the details... This ...</td>\n",
              "      <td>3</td>\n",
              "      <td>0</td>\n",
              "      <td>1</td>\n",
              "      <td>1.0</td>\n",
              "      <td>2014-01-20</td>\n",
              "      <td>work great read detail product really work gre...</td>\n",
              "    </tr>\n",
              "  </tbody>\n",
              "</table>\n",
              "</div>"
            ],
            "text/plain": [
              "      reviewer_id  ...                                         clean_text\n",
              "0  A2JXAZZI9PHK9Z  ...  hdmi nook adapter cable use nook hd work descr...\n",
              "1  A2P5U7BDKKT7FW  ...  cheap proprietary scam cable wobbly sometimes ...\n",
              "2   AAZ084UMH8VZ2  ...  perfdect nook hd hook adaptor real easy setup ...\n",
              "3   AEZ3CR6BKIROJ  ...  nice easy use accessory adapter easily connect...\n",
              "4  A3BY5KCNQZXV5U  ...  work great read detail product really work gre...\n",
              "\n",
              "[5 rows x 20 columns]"
            ]
          },
          "metadata": {
            "tags": []
          },
          "execution_count": 12
        }
      ]
    },
    {
      "cell_type": "code",
      "metadata": {
        "id": "muIvJf71WKJ3"
      },
      "source": [
        "X = df['clean_text']\n",
        "Y = df['rating_class']"
      ],
      "execution_count": null,
      "outputs": []
    },
    {
      "cell_type": "markdown",
      "metadata": {
        "id": "ouyyUvWsKN5r"
      },
      "source": [
        "**Tokenizing** the reviews to get the number of unique words and word indexing"
      ]
    },
    {
      "cell_type": "code",
      "metadata": {
        "id": "ocORFCspIlkN",
        "outputId": "67b0409e-1858-4c51-fcc4-e387e594934b",
        "colab": {
          "base_uri": "https://localhost:8080/",
          "height": 35
        }
      },
      "source": [
        "samples = df['clean_text']\n",
        "\n",
        "tokenizer = Tokenizer(lower=True, split=' ')\n",
        "tokenizer.fit_on_texts(samples)\n",
        "\n",
        "## After the tokenizer is fitted on the samples, word_index will store the mapping of each word to an integer index in the form of dictionary and \n",
        "## texts_to_sequences will convert the documents in terms of indices.\n",
        "\n",
        "sequences = tokenizer.texts_to_sequences(samples)\n",
        "word_index = tokenizer.word_index\n",
        "\n",
        "print(f\"number of unique tokens = {len(word_index)}\")"
      ],
      "execution_count": null,
      "outputs": [
        {
          "output_type": "stream",
          "text": [
            "number of unique tokens = 191424\n"
          ],
          "name": "stdout"
        }
      ]
    },
    {
      "cell_type": "code",
      "metadata": {
        "id": "mKUYhi3uItNr"
      },
      "source": [
        "## reverse the mapping to index each word.\n",
        "\n",
        "reverse_word_index = dict([(value, key) for (key, value) in word_index.items()])"
      ],
      "execution_count": null,
      "outputs": []
    },
    {
      "cell_type": "code",
      "metadata": {
        "id": "jhidYSz4Z9HP"
      },
      "source": [
        "def sequence_to_text(sequence):\n",
        "    words = [reverse_word_index.get(id) for id in sequence]\n",
        "    return words\n",
        "\n",
        "review_text = list(map(sequence_to_text, sequences))"
      ],
      "execution_count": null,
      "outputs": []
    },
    {
      "cell_type": "code",
      "metadata": {
        "id": "QQRNYRgLbby3",
        "outputId": "bc14ac5a-67d8-4318-d3f4-f03167d30d21",
        "colab": {
          "base_uri": "https://localhost:8080/",
          "height": 52
        }
      },
      "source": [
        "print(review_text[0])\n",
        "print(sequences[0])"
      ],
      "execution_count": null,
      "outputs": [
        {
          "output_type": "stream",
          "text": [
            "['hdmi', 'nook', 'adapter', 'cable', 'use', 'nook', 'hd', 'work', 'describe', 'hd', 'picture', 'samsung', 'tv', 'excellent']\n",
            "[410, 4036, 149, 19, 2, 4036, 368, 3, 757, 368, 62, 925, 63, 85]\n"
          ],
          "name": "stdout"
        }
      ]
    },
    {
      "cell_type": "code",
      "metadata": {
        "id": "evBARP--cILw",
        "outputId": "bbf32fc7-1228-4595-ce71-8ae82d2ba0f4",
        "colab": {
          "base_uri": "https://localhost:8080/",
          "height": 35
        }
      },
      "source": [
        "train_text = review_text[:25100]\n",
        "print(len(train_text))"
      ],
      "execution_count": null,
      "outputs": [
        {
          "output_type": "stream",
          "text": [
            "25100\n"
          ],
          "name": "stdout"
        }
      ]
    },
    {
      "cell_type": "markdown",
      "metadata": {
        "id": "3cu08VlsbrVX"
      },
      "source": [
        "**Word2Vec**"
      ]
    },
    {
      "cell_type": "code",
      "metadata": {
        "id": "vuxtjUj-bhRs",
        "outputId": "bd2f483f-f602-4a6f-ca58-b0665c124cd5",
        "colab": {
          "base_uri": "https://localhost:8080/",
          "height": 35
        }
      },
      "source": [
        "word2vec = gensim.models.Word2Vec(review_text, size = 100, window = 10, min_count = 1)\n",
        "word2vec.train(review_text, total_examples = len(review_text), epochs = 10)"
      ],
      "execution_count": null,
      "outputs": [
        {
          "output_type": "execute_result",
          "data": {
            "text/plain": [
              "(98481895, 107080470)"
            ]
          },
          "metadata": {
            "tags": []
          },
          "execution_count": 24
        }
      ]
    },
    {
      "cell_type": "code",
      "metadata": {
        "id": "6Ychxy6_czCM",
        "outputId": "b06cb5c0-c6e8-42e1-a956-7800fc6caa3d",
        "colab": {
          "base_uri": "https://localhost:8080/",
          "height": 232
        }
      },
      "source": [
        "similar_words = {search_term: [item[0] for item in word2vec.wv.most_similar([search_term], topn=5)]\n",
        "                  for search_term in ['feel', 'good', 'product', 'cheap', 'junk', 'bad', 'great','price','love']}\n",
        "similar_words"
      ],
      "execution_count": null,
      "outputs": [
        {
          "output_type": "stream",
          "text": [
            "/usr/local/lib/python3.6/dist-packages/gensim/matutils.py:737: FutureWarning: Conversion of the second argument of issubdtype from `int` to `np.signedinteger` is deprecated. In future, it will be treated as `np.int64 == np.dtype(int).type`.\n",
            "  if np.issubdtype(vec.dtype, np.int):\n"
          ],
          "name": "stderr"
        },
        {
          "output_type": "execute_result",
          "data": {
            "text/plain": [
              "{'bad': ['terrible', 'ok', 'sad', 'horrible', 'defective'],\n",
              " 'cheap': ['inexpensive', 'flimsy', 'cheapo', 'knockoff', 'cheep'],\n",
              " 'feel': ['felt', 'seem', 'heft', 'construction', 'expensivethey'],\n",
              " 'good': ['decent', 'great', 'excellent', 'nice', 'ok'],\n",
              " 'great': ['fantastic', 'good', 'excellent', 'awesome', 'perfect'],\n",
              " 'junk': ['garbage', 'crap', 'pos', 'junki', 'trash'],\n",
              " 'love': ['awesome', 'fantastic', 'wonderful', 'enjoy', 'amaze'],\n",
              " 'price': ['pricei', 'pricethe', 'cost', 'priceif', 'sale'],\n",
              " 'product': ['item', 'products', 'producti', 'vendor', 'adnd']}"
            ]
          },
          "metadata": {
            "tags": []
          },
          "execution_count": 25
        }
      ]
    },
    {
      "cell_type": "code",
      "metadata": {
        "id": "8XikBotZdKM-",
        "outputId": "904ff023-aac2-4040-d50b-5c6b15d50835",
        "colab": {
          "base_uri": "https://localhost:8080/",
          "height": 1000
        }
      },
      "source": [
        "from sklearn.manifold import TSNE\n",
        "\n",
        "words = sum([[k] + v for k, v in similar_words.items()], [])\n",
        "wvs = word2vec.wv[words]\n",
        "\n",
        "tsne = TSNE(n_components=2, random_state=0, n_iter=10000, perplexity=2)\n",
        "np.set_printoptions(suppress=True)\n",
        "T = tsne.fit_transform(wvs)\n",
        "labels = words\n",
        "\n",
        "plt.figure(figsize=(30, 40))\n",
        "plt.scatter(T[:, 0], T[:, 1], c='orange', edgecolors='r')\n",
        "for label, x, yt in zip(labels, T[:, 0], T[:, 1]):\n",
        "    plt.annotate(label, xy=(x+1, yt+1), xytext=(0, 0), textcoords='offset points')\n"
      ],
      "execution_count": null,
      "outputs": [
        {
          "output_type": "display_data",
          "data": {
            "image/png": "[encoded data removed]",
            "text/plain": [
              "<Figure size 2160x2880 with 1 Axes>"
            ]
          },
          "metadata": {
            "tags": [],
            "needs_background": "light"
          }
        }
      ]
    },
    {
      "cell_type": "code",
      "metadata": {
        "id": "yLf6agPAfkQ2"
      },
      "source": [
        ""
      ],
      "execution_count": null,
      "outputs": []
    }
  ]
}