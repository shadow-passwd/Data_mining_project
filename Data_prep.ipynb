{
  "nbformat": 4,
  "nbformat_minor": 0,
  "metadata": {
    "colab": {
      "name": "Data prep.ipynb",
      "provenance": [],
      "collapsed_sections": [],
      "authorship_tag": "ABX9TyO58sdLwgUC3ZMi+m42T/NK",
      "include_colab_link": true
    },
    "kernelspec": {
      "name": "python3",
      "display_name": "Python 3"
    },
    "accelerator": "GPU"
  },
  "cells": [
    {
      "cell_type": "markdown",
      "metadata": {
        "id": "view-in-github",
        "colab_type": "text"
      },
      "source": [
        "<a href=\"https://colab.research.google.com/github/shadow-passwd/Data_mining_project/blob/master/Data_prep.ipynb\" target=\"_parent\"><img src=\"https://colab.research.google.com/assets/colab-badge.svg\" alt=\"Open In Colab\"/></a>"
      ]
    },
    {
      "cell_type": "code",
      "metadata": {
        "id": "UJKcmoxLNneV",
        "colab_type": "code",
        "colab": {
          "base_uri": "https://localhost:8080/",
          "height": 35
        },
        "outputId": "72e8c204-2a31-4fe2-9c23-0aad89f8f7d9"
      },
      "source": [
        "from google.colab import drive\n",
        "drive.mount('/content/drive')"
      ],
      "execution_count": null,
      "outputs": [
        {
          "output_type": "stream",
          "text": [
            "Drive already mounted at /content/drive; to attempt to forcibly remount, call drive.mount(\"/content/drive\", force_remount=True).\n"
          ],
          "name": "stdout"
        }
      ]
    },
    {
      "cell_type": "code",
      "metadata": {
        "id": "BzoPxojwvX12",
        "colab_type": "code",
        "colab": {}
      },
      "source": [
        "import gzip\n",
        "import shutil\n",
        "\n",
        "BASE_DIR = r'/content/drive/My Drive/'"
      ],
      "execution_count": null,
      "outputs": []
    },
    {
      "cell_type": "markdown",
      "metadata": {
        "id": "FgTsaB5w7ncn",
        "colab_type": "text"
      },
      "source": [
        "Following section is just a utility to extract the compressed file "
      ]
    },
    {
      "cell_type": "code",
      "metadata": {
        "id": "3MIO7u-Mv30B",
        "colab_type": "code",
        "colab": {}
      },
      "source": [
        "## function to unzip a .gz file.\n",
        "\n",
        "# def uzip(name):\n",
        "#     file_path = BASE_DIR + name\n",
        "#     components = name.split('.')\n",
        "#     final_file_name = ''\n",
        "#     for i in range(len(components)-1):\n",
        "#         if i != 0:\n",
        "#             final_file_name += '.'\n",
        "#         final_file_name += components[i]\n",
        "    \n",
        "#     final_file_name = BASE_DIR + final_file_name\n",
        "#     print(final_file_name)\n",
        "\n",
        "#     with gzip.open(file_path, 'rb') as f_in:\n",
        "#         with open(final_file_name, 'wb') as f_out:\n",
        "#             shutil.copyfileobj(f_in, f_out)\n"
      ],
      "execution_count": null,
      "outputs": []
    },
    {
      "cell_type": "markdown",
      "metadata": {
        "id": "yYu4Ahyg7wOE",
        "colab_type": "text"
      },
      "source": [
        "Actual codes start from here"
      ]
    },
    {
      "cell_type": "code",
      "metadata": {
        "id": "Kl6xtMH3xFsO",
        "colab_type": "code",
        "colab": {}
      },
      "source": [
        "# zip_file = 'meta_Electronics.json.gz'\n",
        "# uzip(zip_file)\n",
        "\n",
        "# efficient loading to dataframe\n",
        "\n",
        "# import pandas as pd\n",
        "\n",
        "# def parse(path):\n",
        "#     g = gzip.open(path, 'rb')\n",
        "#     for l in g:\n",
        "#         yield eval(l)\n",
        "\n",
        "# def getDataFrame(path, bound = False, limit = 0):\n",
        "#     i = 0;\n",
        "#     df = {}\n",
        "#     for d in parse(path):\n",
        "#         df[i] = d\n",
        "#         i += 1\n",
        "#         if bound == True and i > limit:\n",
        "#             return pd.DataFrame.from_dict(df, orient = 'index')\n",
        "\n",
        "#     return pd.DataFrame.from_dict(df, orient = 'index')"
      ],
      "execution_count": null,
      "outputs": []
    },
    {
      "cell_type": "code",
      "metadata": {
        "id": "t5FiLZ3jxXhW",
        "colab_type": "code",
        "colab": {}
      },
      "source": [
        "# reviews_path = BASE_DIR + 'reviews_Electronics_5.json.gz'\n",
        "\n",
        "# reviews_df = getDataFrame(reviews_path)"
      ],
      "execution_count": null,
      "outputs": []
    },
    {
      "cell_type": "code",
      "metadata": {
        "id": "OSuH2CT68hz-",
        "colab_type": "code",
        "colab": {
          "base_uri": "https://localhost:8080/",
          "height": 306
        },
        "outputId": "6cc19a56-177c-46c0-b4e9-0f61e78d89cd"
      },
      "source": [
        "# print(reviews_df.shape)\n",
        "# reviews_df.head()"
      ],
      "execution_count": null,
      "outputs": [
        {
          "output_type": "stream",
          "text": [
            "(1689188, 9)\n"
          ],
          "name": "stdout"
        },
        {
          "output_type": "execute_result",
          "data": {
            "text/html": [
              "<div>\n",
              "<style scoped>\n",
              "    .dataframe tbody tr th:only-of-type {\n",
              "        vertical-align: middle;\n",
              "    }\n",
              "\n",
              "    .dataframe tbody tr th {\n",
              "        vertical-align: top;\n",
              "    }\n",
              "\n",
              "    .dataframe thead th {\n",
              "        text-align: right;\n",
              "    }\n",
              "</style>\n",
              "<table border=\"1\" class=\"dataframe\">\n",
              "  <thead>\n",
              "    <tr style=\"text-align: right;\">\n",
              "      <th></th>\n",
              "      <th>reviewerID</th>\n",
              "      <th>asin</th>\n",
              "      <th>reviewerName</th>\n",
              "      <th>helpful</th>\n",
              "      <th>reviewText</th>\n",
              "      <th>overall</th>\n",
              "      <th>summary</th>\n",
              "      <th>unixReviewTime</th>\n",
              "      <th>reviewTime</th>\n",
              "    </tr>\n",
              "  </thead>\n",
              "  <tbody>\n",
              "    <tr>\n",
              "      <th>0</th>\n",
              "      <td>AO94DHGC771SJ</td>\n",
              "      <td>0528881469</td>\n",
              "      <td>amazdnu</td>\n",
              "      <td>[0, 0]</td>\n",
              "      <td>We got this GPS for my husband who is an (OTR)...</td>\n",
              "      <td>5.0</td>\n",
              "      <td>Gotta have GPS!</td>\n",
              "      <td>1370131200</td>\n",
              "      <td>06 2, 2013</td>\n",
              "    </tr>\n",
              "    <tr>\n",
              "      <th>1</th>\n",
              "      <td>AMO214LNFCEI4</td>\n",
              "      <td>0528881469</td>\n",
              "      <td>Amazon Customer</td>\n",
              "      <td>[12, 15]</td>\n",
              "      <td>I'm a professional OTR truck driver, and I bou...</td>\n",
              "      <td>1.0</td>\n",
              "      <td>Very Disappointed</td>\n",
              "      <td>1290643200</td>\n",
              "      <td>11 25, 2010</td>\n",
              "    </tr>\n",
              "    <tr>\n",
              "      <th>2</th>\n",
              "      <td>A3N7T0DY83Y4IG</td>\n",
              "      <td>0528881469</td>\n",
              "      <td>C. A. Freeman</td>\n",
              "      <td>[43, 45]</td>\n",
              "      <td>Well, what can I say.  I've had this unit in m...</td>\n",
              "      <td>3.0</td>\n",
              "      <td>1st impression</td>\n",
              "      <td>1283990400</td>\n",
              "      <td>09 9, 2010</td>\n",
              "    </tr>\n",
              "    <tr>\n",
              "      <th>3</th>\n",
              "      <td>A1H8PY3QHMQQA0</td>\n",
              "      <td>0528881469</td>\n",
              "      <td>Dave M. Shaw \"mack dave\"</td>\n",
              "      <td>[9, 10]</td>\n",
              "      <td>Not going to write a long review, even thought...</td>\n",
              "      <td>2.0</td>\n",
              "      <td>Great grafics, POOR GPS</td>\n",
              "      <td>1290556800</td>\n",
              "      <td>11 24, 2010</td>\n",
              "    </tr>\n",
              "    <tr>\n",
              "      <th>4</th>\n",
              "      <td>A24EV6RXELQZ63</td>\n",
              "      <td>0528881469</td>\n",
              "      <td>Wayne Smith</td>\n",
              "      <td>[0, 0]</td>\n",
              "      <td>I've had mine for a year and here's what we go...</td>\n",
              "      <td>1.0</td>\n",
              "      <td>Major issues, only excuses for support</td>\n",
              "      <td>1317254400</td>\n",
              "      <td>09 29, 2011</td>\n",
              "    </tr>\n",
              "  </tbody>\n",
              "</table>\n",
              "</div>"
            ],
            "text/plain": [
              "       reviewerID        asin  ... unixReviewTime   reviewTime\n",
              "0   AO94DHGC771SJ  0528881469  ...     1370131200   06 2, 2013\n",
              "1   AMO214LNFCEI4  0528881469  ...     1290643200  11 25, 2010\n",
              "2  A3N7T0DY83Y4IG  0528881469  ...     1283990400   09 9, 2010\n",
              "3  A1H8PY3QHMQQA0  0528881469  ...     1290556800  11 24, 2010\n",
              "4  A24EV6RXELQZ63  0528881469  ...     1317254400  09 29, 2011\n",
              "\n",
              "[5 rows x 9 columns]"
            ]
          },
          "metadata": {
            "tags": []
          },
          "execution_count": 15
        }
      ]
    },
    {
      "cell_type": "code",
      "metadata": {
        "id": "ds6G6sYe7fZV",
        "colab_type": "code",
        "colab": {}
      },
      "source": [
        "# meta_path = BASE_DIR + 'meta_Electronics.json.gz'\n",
        "\n",
        "# meta_df = getDataFrame(meta_path, True, 400000)"
      ],
      "execution_count": null,
      "outputs": []
    },
    {
      "cell_type": "code",
      "metadata": {
        "id": "YSHPHISd9kju",
        "colab_type": "code",
        "colab": {
          "base_uri": "https://localhost:8080/",
          "height": 603
        },
        "outputId": "244404da-0068-43a1-a930-882ab44e7de2"
      },
      "source": [
        "## Analysing the dataset\n",
        "\n",
        "# print(meta_df.shape)\n",
        "# meta_df.head()"
      ],
      "execution_count": null,
      "outputs": [
        {
          "output_type": "stream",
          "text": [
            "(400001, 18)\n"
          ],
          "name": "stdout"
        },
        {
          "output_type": "execute_result",
          "data": {
            "text/html": [
              "<div>\n",
              "<style scoped>\n",
              "    .dataframe tbody tr th:only-of-type {\n",
              "        vertical-align: middle;\n",
              "    }\n",
              "\n",
              "    .dataframe tbody tr th {\n",
              "        vertical-align: top;\n",
              "    }\n",
              "\n",
              "    .dataframe thead th {\n",
              "        text-align: right;\n",
              "    }\n",
              "</style>\n",
              "<table border=\"1\" class=\"dataframe\">\n",
              "  <thead>\n",
              "    <tr style=\"text-align: right;\">\n",
              "      <th></th>\n",
              "      <th>category</th>\n",
              "      <th>tech1</th>\n",
              "      <th>description</th>\n",
              "      <th>fit</th>\n",
              "      <th>title</th>\n",
              "      <th>also_buy</th>\n",
              "      <th>image</th>\n",
              "      <th>tech2</th>\n",
              "      <th>brand</th>\n",
              "      <th>feature</th>\n",
              "      <th>rank</th>\n",
              "      <th>also_view</th>\n",
              "      <th>main_cat</th>\n",
              "      <th>similar_item</th>\n",
              "      <th>date</th>\n",
              "      <th>price</th>\n",
              "      <th>asin</th>\n",
              "      <th>details</th>\n",
              "    </tr>\n",
              "  </thead>\n",
              "  <tbody>\n",
              "    <tr>\n",
              "      <th>0</th>\n",
              "      <td>[Electronics, Camera &amp;amp; Photo, Video Survei...</td>\n",
              "      <td></td>\n",
              "      <td>[The following camera brands and models have b...</td>\n",
              "      <td></td>\n",
              "      <td>Genuine Geovision 1 Channel 3rd Party NVR IP S...</td>\n",
              "      <td>[]</td>\n",
              "      <td>[https://images-na.ssl-images-amazon.com/image...</td>\n",
              "      <td></td>\n",
              "      <td>GeoVision</td>\n",
              "      <td>[Genuine Geovision 1 Channel NVR IP Software, ...</td>\n",
              "      <td>[&gt;#3,092 in Tools &amp;amp; Home Improvement &amp;gt; ...</td>\n",
              "      <td>[]</td>\n",
              "      <td>Camera &amp;amp; Photo</td>\n",
              "      <td></td>\n",
              "      <td>January 28, 2014</td>\n",
              "      <td>$65.00</td>\n",
              "      <td>0011300000</td>\n",
              "      <td>NaN</td>\n",
              "    </tr>\n",
              "    <tr>\n",
              "      <th>1</th>\n",
              "      <td>[Electronics, Camera &amp;amp; Photo]</td>\n",
              "      <td></td>\n",
              "      <td>[This second edition of the Handbook of Astron...</td>\n",
              "      <td></td>\n",
              "      <td>Books \"Handbook of Astronomical Image Processi...</td>\n",
              "      <td>[0999470906]</td>\n",
              "      <td>[https://images-na.ssl-images-amazon.com/image...</td>\n",
              "      <td></td>\n",
              "      <td>33 Books Co.</td>\n",
              "      <td>[Detailed chapters cover these fundamental top...</td>\n",
              "      <td>[&gt;#55,933 in Camera &amp;amp; Photo (See Top 100 i...</td>\n",
              "      <td>[0943396670, 1138055360, 0999470906]</td>\n",
              "      <td>Camera &amp;amp; Photo</td>\n",
              "      <td></td>\n",
              "      <td>June 17, 2003</td>\n",
              "      <td></td>\n",
              "      <td>0043396828</td>\n",
              "      <td>NaN</td>\n",
              "    </tr>\n",
              "    <tr>\n",
              "      <th>2</th>\n",
              "      <td>[Electronics, eBook Readers &amp;amp; Accessories,...</td>\n",
              "      <td></td>\n",
              "      <td>[A zesty tale. (Publishers Weekly)&lt;br /&gt;&lt;br /&gt;...</td>\n",
              "      <td></td>\n",
              "      <td>One Hot Summer</td>\n",
              "      <td>[0425167798, 039914157X]</td>\n",
              "      <td>[]</td>\n",
              "      <td></td>\n",
              "      <td>Visit Amazon's Carolina Garcia Aguilera Page</td>\n",
              "      <td>[]</td>\n",
              "      <td>3,105,177 in Books (</td>\n",
              "      <td>[]</td>\n",
              "      <td>Books</td>\n",
              "      <td></td>\n",
              "      <td></td>\n",
              "      <td>$11.49</td>\n",
              "      <td>0060009810</td>\n",
              "      <td>NaN</td>\n",
              "    </tr>\n",
              "    <tr>\n",
              "      <th>3</th>\n",
              "      <td>[Electronics, eBook Readers &amp; Accessories, eBo...</td>\n",
              "      <td></td>\n",
              "      <td>[]</td>\n",
              "      <td></td>\n",
              "      <td>Hurray for Hattie Rabbit: Story and pictures (...</td>\n",
              "      <td>[0060219521, 0060219580, 0060219394]</td>\n",
              "      <td>[]</td>\n",
              "      <td></td>\n",
              "      <td>Visit Amazon's Dick Gackenbach Page</td>\n",
              "      <td>[]</td>\n",
              "      <td>2,024,298 in Books (</td>\n",
              "      <td>[0060219521, 0060219475, 0060219394]</td>\n",
              "      <td>Books</td>\n",
              "      <td></td>\n",
              "      <td></td>\n",
              "      <td>.a-section.a-spacing-mini{margin-bottom:6px!im...</td>\n",
              "      <td>0060219602</td>\n",
              "      <td>NaN</td>\n",
              "    </tr>\n",
              "    <tr>\n",
              "      <th>4</th>\n",
              "      <td>[Electronics, eBook Readers &amp; Accessories, eBo...</td>\n",
              "      <td></td>\n",
              "      <td>[&amp;#8220;sex.lies.murder.fame. is brillllli&amp;#82...</td>\n",
              "      <td></td>\n",
              "      <td>sex.lies.murder.fame.: A Novel</td>\n",
              "      <td>[]</td>\n",
              "      <td>[]</td>\n",
              "      <td></td>\n",
              "      <td>Visit Amazon's Lolita Files Page</td>\n",
              "      <td>[]</td>\n",
              "      <td>3,778,828 in Books (</td>\n",
              "      <td>[]</td>\n",
              "      <td>Books</td>\n",
              "      <td></td>\n",
              "      <td></td>\n",
              "      <td>$13.95</td>\n",
              "      <td>0060786817</td>\n",
              "      <td>NaN</td>\n",
              "    </tr>\n",
              "  </tbody>\n",
              "</table>\n",
              "</div>"
            ],
            "text/plain": [
              "                                            category tech1  ...        asin details\n",
              "0  [Electronics, Camera &amp; Photo, Video Survei...        ...  0011300000     NaN\n",
              "1                  [Electronics, Camera &amp; Photo]        ...  0043396828     NaN\n",
              "2  [Electronics, eBook Readers &amp; Accessories,...        ...  0060009810     NaN\n",
              "3  [Electronics, eBook Readers & Accessories, eBo...        ...  0060219602     NaN\n",
              "4  [Electronics, eBook Readers & Accessories, eBo...        ...  0060786817     NaN\n",
              "\n",
              "[5 rows x 18 columns]"
            ]
          },
          "metadata": {
            "tags": []
          },
          "execution_count": 17
        }
      ]
    },
    {
      "cell_type": "code",
      "metadata": {
        "id": "1JVkVS36ACA1",
        "colab_type": "code",
        "colab": {
          "base_uri": "https://localhost:8080/",
          "height": 35
        },
        "outputId": "8ebeb87d-ad03-4204-dc09-a41b92b50593"
      },
      "source": [
        ""
      ],
      "execution_count": null,
      "outputs": [
        {
          "output_type": "execute_result",
          "data": {
            "text/plain": [
              "(1689188, 9)"
            ]
          },
          "metadata": {
            "tags": []
          },
          "execution_count": 8
        }
      ]
    },
    {
      "cell_type": "code",
      "metadata": {
        "id": "Xee_JOB0NgkK",
        "colab_type": "code",
        "colab": {}
      },
      "source": [
        "# reviews_df.to_csv(BASE_DIR + 'reviews.csv')"
      ],
      "execution_count": null,
      "outputs": []
    },
    {
      "cell_type": "code",
      "metadata": {
        "id": "m5oLdd8fNlg2",
        "colab_type": "code",
        "colab": {}
      },
      "source": [
        "# meta_df.to_csv(BASE_DIR + 'meta.csv')"
      ],
      "execution_count": null,
      "outputs": []
    },
    {
      "cell_type": "code",
      "metadata": {
        "id": "5Dp_eIvRKI0f",
        "colab_type": "code",
        "colab": {}
      },
      "source": [
        ""
      ],
      "execution_count": null,
      "outputs": []
    }
  ]
}